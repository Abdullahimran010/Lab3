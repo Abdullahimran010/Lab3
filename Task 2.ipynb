{
 "cells": [
  {
   "cell_type": "code",
   "execution_count": null,
   "id": "d2aca5ac",
   "metadata": {},
   "outputs": [],
   "source": []
  },
  {
   "cell_type": "code",
   "execution_count": null,
   "id": "33c551e6",
   "metadata": {},
   "outputs": [],
   "source": []
  },
  {
   "cell_type": "code",
   "execution_count": null,
   "id": "74c0a886",
   "metadata": {},
   "outputs": [],
   "source": []
  },
  {
   "cell_type": "code",
   "execution_count": 7,
   "id": "cbf35126",
   "metadata": {},
   "outputs": [
    {
     "name": "stdout",
     "output_type": "stream",
     "text": [
      "Enter any String : ABCDEFGHIJKLMNOPQR\n",
      "- ... -..- -.-  ,, --- || ___ _._ -..- - -\\.. . - -.- -.. ..- "
     ]
    }
   ],
   "source": [
    "morse_code = input(\"Enter any String : \")\n",
    "\n",
    "\n",
    "code = {\"A\":\"-\",\"B\":\"...\",\"C\":\"-..-\",\"D\":\"-.-\",\"E\":\"\",\"F\":\",,\",\"G\":\"---\",\"H\":\"||\",\"I\":\"___\",\"J\":\"_._\",\n",
    "        \"K\":\"-..-\",\"L\":\"-\",\"M\":\"-\\..\",\"N\":\".\",\"O\":\"-\",\"P\":\"-.-\",\"Q\":\"-..\",\"R\":\"..-\"}\n",
    "\n",
    "for ch in range(len(morse_code)):\n",
    "    if(morse_code[ch] in code):\n",
    "         print(code[morse_code[ch]],end=\" \")\n",
    "        \n"
   ]
  }
 ],
 "metadata": {
  "kernelspec": {
   "display_name": "Python 3",
   "language": "python",
   "name": "python3"
  },
  "language_info": {
   "codemirror_mode": {
    "name": "ipython",
    "version": 3
   },
   "file_extension": ".py",
   "mimetype": "text/x-python",
   "name": "python",
   "nbconvert_exporter": "python",
   "pygments_lexer": "ipython3",
   "version": "3.8.8"
  }
 },
 "nbformat": 4,
 "nbformat_minor": 5
}
