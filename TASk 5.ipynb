{
 "cells": [
  {
   "cell_type": "code",
   "execution_count": null,
   "id": "b6adfa05",
   "metadata": {},
   "outputs": [],
   "source": []
  },
  {
   "cell_type": "code",
   "execution_count": null,
   "id": "3f144b74",
   "metadata": {},
   "outputs": [],
   "source": []
  },
  {
   "cell_type": "code",
   "execution_count": 7,
   "id": "5b5a55e0",
   "metadata": {},
   "outputs": [
    {
     "name": "stdout",
     "output_type": "stream",
     "text": [
      "Enter the seq =i.am.arthur\n",
      "i.am.arthur\n",
      "I,Am,Arthur,"
     ]
    }
   ],
   "source": [
    "line = input(\"Enter the seq =\")\n",
    "print(line)\n",
    "\n",
    "def oop(e):\n",
    "    \n",
    "    x = line.split(\".\")\n",
    "    for i in x:\n",
    "        \n",
    "        print(i.strip().capitalize(),end=\",\")\n",
    "oop(line)\n",
    "    "
   ]
  }
 ],
 "metadata": {
  "kernelspec": {
   "display_name": "Python 3",
   "language": "python",
   "name": "python3"
  },
  "language_info": {
   "codemirror_mode": {
    "name": "ipython",
    "version": 3
   },
   "file_extension": ".py",
   "mimetype": "text/x-python",
   "name": "python",
   "nbconvert_exporter": "python",
   "pygments_lexer": "ipython3",
   "version": "3.8.8"
  }
 },
 "nbformat": 4,
 "nbformat_minor": 5
}
