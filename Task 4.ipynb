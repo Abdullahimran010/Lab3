{
 "cells": [
  {
   "cell_type": "code",
   "execution_count": null,
   "id": "f178ace3",
   "metadata": {},
   "outputs": [],
   "source": []
  },
  {
   "cell_type": "code",
   "execution_count": null,
   "id": "d0dc7cbb",
   "metadata": {},
   "outputs": [],
   "source": []
  },
  {
   "cell_type": "code",
   "execution_count": null,
   "id": "fe9eccf2",
   "metadata": {},
   "outputs": [
    {
     "name": "stdout",
     "output_type": "stream",
     "text": [
      "Enter any Number : ABC\n",
      "Length is :  3\n",
      "Not valid\n",
      "Enter the string: ABC\n",
      "Not valid\n"
     ]
    }
   ],
   "source": [
    "number = input(\"Enter any Number : \")\n",
    "l = len(number)\n",
    "print(\"Length is : \",l)\n",
    "while l != 5:\n",
    "    print(\"Not valid\")\n",
    "    u=input(\"Enter the string: \")\n",
    "    code = {\"A\":\"1\",\"2\":\"3\",\"4\":\"5\",\"D\":\"6\",\"E\":\"7\",\"F\":\"8\",\"9\":\"10\",\"H\":\"11\"}\n",
    "\n",
    "add = \"876\"\n",
    "\n",
    "for i in range(len(number)-9 , len(number)):\n",
    "        \n",
    "    if(number[i] in code):\n",
    "        add = add + code[number[i]]\n",
    "        print(add)"
   ]
  },
  {
   "cell_type": "code",
   "execution_count": null,
   "id": "7bc5ae4a",
   "metadata": {},
   "outputs": [],
   "source": []
  }
 ],
 "metadata": {
  "kernelspec": {
   "display_name": "Python 3",
   "language": "python",
   "name": "python3"
  },
  "language_info": {
   "codemirror_mode": {
    "name": "ipython",
    "version": 3
   },
   "file_extension": ".py",
   "mimetype": "text/x-python",
   "name": "python",
   "nbconvert_exporter": "python",
   "pygments_lexer": "ipython3",
   "version": "3.8.8"
  }
 },
 "nbformat": 4,
 "nbformat_minor": 5
}
