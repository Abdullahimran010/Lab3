{
 "cells": [
  {
   "cell_type": "code",
   "execution_count": null,
   "id": "aa2b62f9",
   "metadata": {},
   "outputs": [],
   "source": []
  },
  {
   "cell_type": "code",
   "execution_count": null,
   "id": "9399adbe",
   "metadata": {},
   "outputs": [],
   "source": []
  },
  {
   "cell_type": "markdown",
   "id": "a25659ab",
   "metadata": {},
   "source": [
    "# Write a program that asks the user to enter a series of single-digit numbers with nothing separating\n",
    "them. The program should display the sum of all the single digit numbers in the string. For\n",
    "example, if the user enters 2514, the method should return 12, which is the sum of 2, 5, 1, and 4.\n"
   ]
  },
  {
   "cell_type": "code",
   "execution_count": 6,
   "id": "f7449c73",
   "metadata": {},
   "outputs": [
    {
     "name": "stdout",
     "output_type": "stream",
     "text": [
      "Enter any Numbers: 456\n",
      "Sum of the numbers =  15\n"
     ]
    }
   ],
   "source": [
    "w = input(\"Enter any Numbers: \")\n",
    "l = len(w)\n",
    "s = 0\n",
    "for i in range(l):\n",
    "    s = s + int(w[i])\n",
    "print(\"Sum of the numbers = \",s)    "
   ]
  }
 ],
 "metadata": {
  "kernelspec": {
   "display_name": "Python 3",
   "language": "python",
   "name": "python3"
  },
  "language_info": {
   "codemirror_mode": {
    "name": "ipython",
    "version": 3
   },
   "file_extension": ".py",
   "mimetype": "text/x-python",
   "name": "python",
   "nbconvert_exporter": "python",
   "pygments_lexer": "ipython3",
   "version": "3.8.8"
  }
 },
 "nbformat": 4,
 "nbformat_minor": 5
}
